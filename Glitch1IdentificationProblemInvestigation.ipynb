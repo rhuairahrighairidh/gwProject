{
 "metadata": {
  "name": "",
  "signature": "sha256:499203db5c5bf38864224e752071a58d5318f1b2bdba432b812b40de00e7df24"
 },
 "nbformat": 3,
 "nbformat_minor": 0,
 "worksheets": [
  {
   "cells": [
    {
     "cell_type": "code",
     "collapsed": false,
     "input": [
      "%autosave 0"
     ],
     "language": "python",
     "metadata": {},
     "outputs": [
      {
       "javascript": [
        "IPython.notebook.set_autosave_interval(0)"
       ],
       "metadata": {},
       "output_type": "display_data"
      },
      {
       "output_type": "stream",
       "stream": "stdout",
       "text": [
        "Autosave disabled\n"
       ]
      }
     ],
     "prompt_number": 1
    },
    {
     "cell_type": "heading",
     "level": 4,
     "metadata": {},
     "source": [
      "Initialization"
     ]
    },
    {
     "cell_type": "code",
     "collapsed": false,
     "input": [
      "import numpy as np\n",
      "import scipy as sc\n",
      "import pandas as pd\n",
      "import matplotlib.pyplot as plt\n",
      "import time\n",
      "import cPickle\n",
      "from nupic.frameworks.opf.modelfactory import ModelFactory\n",
      "\n",
      "%matplotlib inline\n",
      "np.random.seed(1234)\n",
      "pd.options.display.mpl_style = 'default'\n",
      "\n",
      "from IPython.display import display, clear_output"
     ],
     "language": "python",
     "metadata": {},
     "outputs": [],
     "prompt_number": 6
    },
    {
     "cell_type": "code",
     "collapsed": false,
     "input": [
      "from useful import *\n",
      "import recorder as r"
     ],
     "language": "python",
     "metadata": {},
     "outputs": [],
     "prompt_number": 2
    },
    {
     "cell_type": "heading",
     "level": 1,
     "metadata": {},
     "source": [
      "Load The Same Glitch As Before"
     ]
    },
    {
     "cell_type": "code",
     "collapsed": false,
     "input": [
      "#glitch1 = createGlitch(phase=5.6,frequency=2,sampleRate=1/32.)\n",
      "with open('noiseCharacterisationData/glitch1') as f:\n",
      "    glitch1 = cPickle.load(f)"
     ],
     "language": "python",
     "metadata": {},
     "outputs": [],
     "prompt_number": 9
    },
    {
     "cell_type": "heading",
     "level": 1,
     "metadata": {},
     "source": [
      "Set Up Model As Before"
     ]
    },
    {
     "cell_type": "heading",
     "level": 3,
     "metadata": {},
     "source": [
      "Parameters"
     ]
    },
    {
     "cell_type": "code",
     "collapsed": false,
     "input": [
      "MODEL_PARAMS = \\\n",
      "    { 'aggregationInfo': { 'days': 0,\n",
      "                            'fields': [],\n",
      "                            'hours': 0,\n",
      "                            'microseconds': 0,\n",
      "                            'milliseconds': 0,\n",
      "                            'minutes': 0,\n",
      "                            'months': 0,\n",
      "                            'seconds': 0,\n",
      "                            'weeks': 0,\n",
      "                            'years': 0},\n",
      "    'model': 'CLA',\n",
      "    'modelParams': { 'anomalyParams': { u'anomalyCacheRecords': None, #The defaults of these are None, so they don't need to be specified.\n",
      "                                        u'autoDetectThreshold': None, # Other valid params: 'mode', 'slidingWindowSize'\n",
      "                                        u'autoDetectWaitRecords': None}, #There are also more params for the AnomalyClassifier\n",
      "                    'clParams': { 'alpha': 0.03431542766597667,\n",
      "                                    'clVerbosity': 0,\n",
      "                                    'regionName': 'CLAClassifierRegion',\n",
      "                                    'steps': '1'},\n",
      "                    'inferenceType': 'TemporalAnomaly',\n",
      "                    'sensorParams': { 'encoders': { u'sine': {'clipInput': True,\n",
      "                                                              'fieldname': 'sine',\n",
      "                                                              'maxval': 1,\n",
      "                                                              'minval': -1,\n",
      "                                                              'n': 129,\n",
      "                                                              'name': 'sine',\n",
      "                                                              'type': 'ScalarEncoder',\n",
      "                                                              'w': 21}},\n",
      "                                    'sensorAutoReset': None,\n",
      "                                    'verbosity': 0},\n",
      "                    'spEnable': True,\n",
      "                    'spParams': {'coincInputPoolPct': 0.5,\n",
      "                                 'columnCount': 2048,\n",
      "                                 'globalInhibition': 1,\n",
      "                                 'inputWidth': 0,\n",
      "                                 'maxBoost': 2.0,\n",
      "                                 'numActiveColumnsPerInhArea': 40,\n",
      "                                 'seed': 1956,\n",
      "                                 'spVerbosity': 0,\n",
      "                                 'spatialImp': 'cpp',\n",
      "                                 'synPermActiveInc': 0.05,\n",
      "                                 'synPermConnected': 0.1,\n",
      "                                 'synPermInactiveDec': 0.08022017666717157},\n",
      "                    'tpEnable': True,\n",
      "                    'tpParams': {'activationThreshold': 13,\n",
      "                                 'cellsPerColumn': 32,\n",
      "                                 'columnCount': 2048,\n",
      "                                 'globalDecay': 0.0,\n",
      "                                 'initialPerm': 0.21,\n",
      "                                 'inputWidth': 2048,\n",
      "                                 'maxAge': 0,\n",
      "                                 'maxSegmentsPerCell': 128,\n",
      "                                 'maxSynapsesPerSegment': 32,\n",
      "                                 'minThreshold': 10,\n",
      "                                 'newSynapseCount': 20,\n",
      "                                 'outputType': 'normal',\n",
      "                                 'pamLength': 2,\n",
      "                                 'permanenceDec': 0.1,\n",
      "                                 'permanenceInc': 0.1,\n",
      "                                 'seed': 1960,\n",
      "                                 'temporalImp': 'cpp',\n",
      "                                 'verbosity': 0},\n",
      "                    'trainSPNetOnlyIfRequested': False},\n",
      "    'predictAheadTime': None,\n",
      "    'version': 1}"
     ],
     "language": "python",
     "metadata": {},
     "outputs": [],
     "prompt_number": 4
    },
    {
     "cell_type": "heading",
     "level": 3,
     "metadata": {},
     "source": [
      "Initialisation"
     ]
    },
    {
     "cell_type": "code",
     "collapsed": false,
     "input": [
      "#Initialize the model\n",
      "model = ModelFactory.create(MODEL_PARAMS)\n",
      "model.enableInference({\"predictedField\": \"sine\"})\n",
      "\n",
      "#Initialise data structure\n",
      "trainData = r.Store()"
     ],
     "language": "python",
     "metadata": {},
     "outputs": [],
     "prompt_number": 7
    },
    {
     "cell_type": "heading",
     "level": 3,
     "metadata": {},
     "source": [
      "Training"
     ]
    },
    {
     "cell_type": "code",
     "collapsed": false,
     "input": [
      "#Hopefully this will be more advanced in future. Allowing you to specify the noise level in snr.\n",
      "def getNoise(signal,stdDev=0):\n",
      "    if stdDev == 0:\n",
      "        noise =  np.zeros(len(signal))\n",
      "    else:\n",
      "        noise =  np.random.normal(0,stdDev,len(signal))\n",
      "    return noise"
     ],
     "language": "python",
     "metadata": {},
     "outputs": [],
     "prompt_number": 11
    },
    {
     "cell_type": "code",
     "collapsed": false,
     "input": [
      "trainingNoiseLevel = 0\n",
      "for i in xrange(200):\n",
      " \n",
      "    for sample in glitch1+getNoise(glitch1,trainingNoiseLevel):\n",
      "        result = model.run({\"sine\": float(sample)})\n",
      "        trainData.record(model,result,[r.modelInput,r.bestPrediction,r.anomalyScore])\n",
      "        \n",
      "    #reset inbetween each signal\n",
      "    model.resetSequenceStates()"
     ],
     "language": "python",
     "metadata": {},
     "outputs": [],
     "prompt_number": 12
    },
    {
     "cell_type": "code",
     "collapsed": false,
     "input": [
      "plt.plot(trainData.anomalyScore)\n",
      "b(18,2)"
     ],
     "language": "python",
     "metadata": {},
     "outputs": [
      {
       "metadata": {},
       "output_type": "display_data",
       "png": "[encoded data removed]",
       "text": [
        "<matplotlib.figure.Figure at 0x112fe7790>"
       ]
      }
     ],
     "prompt_number": 82
    },
    {
     "cell_type": "heading",
     "level": 1,
     "metadata": {},
     "source": [
      "Investigate Active Cells"
     ]
    },
    {
     "cell_type": "markdown",
     "metadata": {},
     "source": [
      "Show that the cells that are active at the start of glitch1 (when the signal is near zero) are similar to the cells that are active when the model is fed 0 mean noise.\n",
      "\n",
      "The model generalises how to predict 0 mean noise from its knowledge of the flat part of glitch1."
     ]
    },
    {
     "cell_type": "code",
     "collapsed": false,
     "input": [
      "plt.plot(glitch1,'.-');"
     ],
     "language": "python",
     "metadata": {},
     "outputs": [
      {
       "metadata": {},
       "output_type": "display_data",
       "png": "[encoded data removed]",
       "text": [
        "<matplotlib.figure.Figure at 0x112e88f90>"
       ]
      }
     ],
     "prompt_number": 20
    },
    {
     "cell_type": "code",
     "collapsed": false,
     "input": [
      "def activeCellsSet(model,result):\n",
      "    return set(map(tuple,np.array(r.activeCells(model,result).nonzero()).T))\n",
      "\n",
      "#Set up a container to put the data into\n",
      "data = r.Store()\n",
      "\n",
      "#Disable learning\n",
      "model.disableLearning()"
     ],
     "language": "python",
     "metadata": {},
     "outputs": [],
     "prompt_number": 15
    },
    {
     "cell_type": "heading",
     "level": 3,
     "metadata": {},
     "source": [
      "Find The Set Of Cells Active In The Flat Area Of Glitch1"
     ]
    },
    {
     "cell_type": "code",
     "collapsed": false,
     "input": [
      "data.flatStart = r.Store()\n",
      "model.resetSequenceStates()\n",
      "for sample in glitch1[20:21]:\n",
      "    result = model.run({\"sine\": float(0.8)})#run through first 4 samples\n",
      "    data.flatStart.record(model,result,fieldFunctions=[activeCellsSet])"
     ],
     "language": "python",
     "metadata": {},
     "outputs": [],
     "prompt_number": 53
    },
    {
     "cell_type": "code",
     "collapsed": false,
     "input": [
      "allStart = set.union(*data.flatStart.activeCellsSet)"
     ],
     "language": "python",
     "metadata": {},
     "outputs": [],
     "prompt_number": 24
    },
    {
     "cell_type": "heading",
     "level": 3,
     "metadata": {},
     "source": [
      "Find The Set Of Cells Active In The Low Middle Section Of Glitch1 (for comparison)"
     ]
    },
    {
     "cell_type": "code",
     "collapsed": false,
     "input": [
      "data.lowMiddle = r.Store()\n",
      "model.resetSequenceStates()\n",
      "#Run the model from the start up to the middle section\n",
      "for sample in glitch1[:13]:\n",
      "    model.run({\"sine\": float(sample)})\n",
      "    \n",
      "for sample in glitch1[13:17]:\n",
      "    result = model.run({\"sine\": float(sample)})#run through middle 4 samples\n",
      "    data.lowMiddle.record(model,result,fieldFunctions=[activeCellsSet])"
     ],
     "language": "python",
     "metadata": {},
     "outputs": [],
     "prompt_number": 21
    },
    {
     "cell_type": "code",
     "collapsed": false,
     "input": [
      "allMiddle=set.union(*data.lowMiddle.activeCellsSet)"
     ],
     "language": "python",
     "metadata": {},
     "outputs": [],
     "prompt_number": 25
    },
    {
     "cell_type": "heading",
     "level": 3,
     "metadata": {},
     "source": [
      "Find The Set Of Cells Active In 0 Mean Noise"
     ]
    },
    {
     "cell_type": "code",
     "collapsed": false,
     "input": [
      "data.noisyFlat = r.Store()\n",
      "model.resetSequenceStates()\n",
      "for sample in np.random.normal(0,0.05,32):\n",
      "    result = model.run({\"sine\": float(sample)})\n",
      "    data.noisyFlat.record(model,result,fieldFunctions=[activeCellsSet])"
     ],
     "language": "python",
     "metadata": {},
     "outputs": [],
     "prompt_number": 28
    },
    {
     "cell_type": "code",
     "collapsed": false,
     "input": [
      "allNoise=set.union(*data.noisyFlat.activeCellsSet)"
     ],
     "language": "python",
     "metadata": {},
     "outputs": [],
     "prompt_number": 29
    },
    {
     "cell_type": "heading",
     "level": 3,
     "metadata": {},
     "source": [
      "Find Common Cells Between These Sets"
     ]
    },
    {
     "cell_type": "code",
     "collapsed": false,
     "input": [
      "map(len,[allStart,allMiddle,allNoise])"
     ],
     "language": "python",
     "metadata": {},
     "outputs": [
      {
       "metadata": {},
       "output_type": "pyout",
       "prompt_number": 35,
       "text": [
        "[158, 160, 3890]"
       ]
      }
     ],
     "prompt_number": 35
    },
    {
     "cell_type": "code",
     "collapsed": false,
     "input": [
      "len(set.intersection(allStart,allNoise))"
     ],
     "language": "python",
     "metadata": {},
     "outputs": [
      {
       "metadata": {},
       "output_type": "pyout",
       "prompt_number": 31,
       "text": [
        "158"
       ]
      }
     ],
     "prompt_number": 31
    },
    {
     "cell_type": "code",
     "collapsed": false,
     "input": [
      "len(set.intersection(allMiddle,allNoise))"
     ],
     "language": "python",
     "metadata": {},
     "outputs": [
      {
       "metadata": {},
       "output_type": "pyout",
       "prompt_number": 32,
       "text": [
        "0"
       ]
      }
     ],
     "prompt_number": 32
    },
    {
     "cell_type": "code",
     "collapsed": false,
     "input": [
      "len(set.intersection(allStart,allMiddle))"
     ],
     "language": "python",
     "metadata": {},
     "outputs": [
      {
       "metadata": {},
       "output_type": "pyout",
       "prompt_number": 34,
       "text": [
        "0"
       ]
      }
     ],
     "prompt_number": 34
    },
    {
     "cell_type": "markdown",
     "metadata": {},
     "source": [
      "The set of cells that are active when the model is running through 0 mean noise, is  a super set of the set of cells that are active when the model is running through the very start of glitch1.\n",
      "\n",
      "By comparison there is no cells in common between, the set of cells active when the model is running through the middle of glitch1 and either of the sets mentioned above."
     ]
    }
   ],
   "metadata": {}
  }
 ]
}