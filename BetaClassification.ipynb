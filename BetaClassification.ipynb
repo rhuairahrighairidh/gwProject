{
 "metadata": {
  "name": "",
  "signature": "sha256:4f5dbf3dffa5d80246c27d49c2144846b380db151e954ced9b5c58c03f0868fb"
 },
 "nbformat": 3,
 "nbformat_minor": 0,
 "worksheets": [
  {
   "cells": [
    {
     "cell_type": "code",
     "collapsed": false,
     "input": [
      "from nupic.research.spatial_pooler import SpatialPooler\n",
      "from nitpick import plots as p\n",
      "from nitpick.fileIO import Patcher, History\n",
      "import numpy as np\n",
      "%matplotlib inline\n",
      "import pandas as pd\n",
      "import matplotlib.pyplot as plt"
     ],
     "language": "python",
     "metadata": {},
     "outputs": [],
     "prompt_number": 2
    },
    {
     "cell_type": "code",
     "collapsed": false,
     "input": [
      "pd.options.display.mpl_style = 'default'"
     ],
     "language": "python",
     "metadata": {},
     "outputs": [],
     "prompt_number": 108
    },
    {
     "cell_type": "heading",
     "level": 1,
     "metadata": {},
     "source": [
      "Import The Beta Values"
     ]
    },
    {
     "cell_type": "code",
     "collapsed": false,
     "input": [
      "G = np.genfromtxt('G-betas.txt')\n",
      "SG = np.genfromtxt('SG-betas.txt')\n",
      "RD = np.genfromtxt('RD-betas.txt')"
     ],
     "language": "python",
     "metadata": {},
     "outputs": [],
     "prompt_number": 14
    },
    {
     "cell_type": "markdown",
     "metadata": {},
     "source": [
      "Drop the first column (GPS time)"
     ]
    },
    {
     "cell_type": "code",
     "collapsed": false,
     "input": [
      "RD = RD[:,1:]\n",
      "SG = SG[:,1:]\n",
      "G = G[:,1:]"
     ],
     "language": "python",
     "metadata": {},
     "outputs": [],
     "prompt_number": 26
    },
    {
     "cell_type": "code",
     "collapsed": false,
     "input": [
      "RD.shape"
     ],
     "language": "python",
     "metadata": {},
     "outputs": [
      {
       "metadata": {},
       "output_type": "pyout",
       "prompt_number": 27,
       "text": [
        "(750, 10)"
       ]
      }
     ],
     "prompt_number": 27
    },
    {
     "cell_type": "code",
     "collapsed": false,
     "input": [
      "%ls"
     ],
     "language": "python",
     "metadata": {},
     "outputs": [
      {
       "output_type": "stream",
       "stream": "stdout",
       "text": [
        "BetaClassification.ipynb  G-betas.txt  RD-betas.txt  SG-betas.txt\r\n"
       ]
      }
     ],
     "prompt_number": 3
    },
    {
     "cell_type": "heading",
     "level": 1,
     "metadata": {},
     "source": [
      "Set up Scalar Encoder"
     ]
    },
    {
     "cell_type": "code",
     "collapsed": false,
     "input": [
      "from nupic.encoders.scalar import ScalarEncoder"
     ],
     "language": "python",
     "metadata": {},
     "outputs": [],
     "prompt_number": 29
    },
    {
     "cell_type": "code",
     "collapsed": false,
     "input": [
      "se = ScalarEncoder(5,-1,1,resolution=0.1,forced=True)"
     ],
     "language": "python",
     "metadata": {},
     "outputs": [],
     "prompt_number": 49
    },
    {
     "cell_type": "code",
     "collapsed": false,
     "input": [
      "se.getWidth()"
     ],
     "language": "python",
     "metadata": {},
     "outputs": [
      {
       "metadata": {},
       "output_type": "pyout",
       "prompt_number": 50,
       "text": [
        "25"
       ]
      }
     ],
     "prompt_number": 50
    },
    {
     "cell_type": "code",
     "collapsed": false,
     "input": [
      "array = np.zeros(se.getWidth())"
     ],
     "language": "python",
     "metadata": {},
     "outputs": [],
     "prompt_number": 52
    },
    {
     "cell_type": "code",
     "collapsed": false,
     "input": [
      "array"
     ],
     "language": "python",
     "metadata": {},
     "outputs": [
      {
       "metadata": {},
       "output_type": "pyout",
       "prompt_number": 53,
       "text": [
        "array([ 0.,  0.,  0.,  0.,  0.,  0.,  0.,  0.,  0.,  0.,  0.,  0.,  0.,\n",
        "        0.,  0.,  0.,  0.,  0.,  0.,  0.,  0.,  0.,  0.,  0.,  0.])"
       ]
      }
     ],
     "prompt_number": 53
    },
    {
     "cell_type": "code",
     "collapsed": false,
     "input": [
      "se.encodeIntoArray(0.5,array)\n",
      "print array"
     ],
     "language": "python",
     "metadata": {},
     "outputs": [
      {
       "output_type": "stream",
       "stream": "stdout",
       "text": [
        "[ 0.  0.  0.  0.  0.  0.  0.  0.  0.  0.  0.  0.  0.  0.  0.  1.  1.  1.\n",
        "  1.  1.  0.  0.  0.  0.  0.]\n"
       ]
      }
     ],
     "prompt_number": 54
    },
    {
     "cell_type": "code",
     "collapsed": false,
     "input": [
      "p.arrayPlot(array)"
     ],
     "language": "python",
     "metadata": {},
     "outputs": [
      {
       "metadata": {},
       "output_type": "pyout",
       "prompt_number": 55,
       "text": [
        "(<matplotlib.figure.Figure at 0xad84f84c>,\n",
        " [<matplotlib.axes.AxesSubplot at 0xad88ddec>,\n",
        "  <matplotlib.axes.Axes at 0xad7c14ec>])"
       ]
      },
      {
       "metadata": {},
       "output_type": "display_data",
       "png": "[encoded data removed]",
       "text": [
        "<matplotlib.figure.Figure at 0xad84f84c>"
       ]
      }
     ],
     "prompt_number": 55
    },
    {
     "cell_type": "code",
     "collapsed": false,
     "input": [
      "se.getBucketValues()"
     ],
     "language": "python",
     "metadata": {},
     "outputs": [
      {
       "metadata": {},
       "output_type": "pyout",
       "prompt_number": 57,
       "text": [
        "[-1.0,\n",
        " -0.9,\n",
        " -0.8,\n",
        " -0.7,\n",
        " -0.6,\n",
        " -0.5,\n",
        " -0.3999999999999999,\n",
        " -0.29999999999999993,\n",
        " -0.19999999999999996,\n",
        " -0.09999999999999998,\n",
        " 0.0,\n",
        " 0.10000000000000009,\n",
        " 0.20000000000000018,\n",
        " 0.30000000000000004,\n",
        " 0.40000000000000013,\n",
        " 0.5,\n",
        " 0.6000000000000001,\n",
        " 0.7000000000000002,\n",
        " 0.8,\n",
        " 0.9000000000000001,\n",
        " 1.0]"
       ]
      }
     ],
     "prompt_number": 57
    },
    {
     "cell_type": "code",
     "collapsed": false,
     "input": [
      "plt.hist(G[:,0],bins=20)"
     ],
     "language": "python",
     "metadata": {},
     "outputs": [
      {
       "metadata": {},
       "output_type": "pyout",
       "prompt_number": 35,
       "text": [
        "(array([ 13.,  18.,  26.,  36.,  33.,  47.,  42.,  51.,  50.,  69.,  61.,\n",
        "         54.,  46.,  41.,  40.,  43.,  25.,  31.,  16.,   8.]),\n",
        " array([-0.89227282, -0.80250074, -0.71272865, -0.62295657, -0.53318449,\n",
        "        -0.44341241, -0.35364033, -0.26386825, -0.17409617, -0.08432408,\n",
        "         0.005448  ,  0.09522008,  0.18499216,  0.27476424,  0.36453632,\n",
        "         0.4543084 ,  0.54408048,  0.63385257,  0.72362465,  0.81339673,\n",
        "         0.90316881]),\n",
        " <a list of 20 Patch objects>)"
       ]
      },
      {
       "metadata": {},
       "output_type": "display_data",
       "png": "[encoded data removed]",
       "text": [
        "<matplotlib.figure.Figure at 0xad8bfa6c>"
       ]
      }
     ],
     "prompt_number": 35
    },
    {
     "cell_type": "heading",
     "level": 1,
     "metadata": {},
     "source": [
      "Encode Betas"
     ]
    },
    {
     "cell_type": "code",
     "collapsed": false,
     "input": [
      "def encode(inputScalar, ScalarEncoderInstance=se):\n",
      "    array = np.zeros(ScalarEncoderInstance.getWidth())\n",
      "    ScalarEncoderInstance.encodeIntoArray(inputScalar,array)\n",
      "    return array"
     ],
     "language": "python",
     "metadata": {},
     "outputs": [],
     "prompt_number": 62
    },
    {
     "cell_type": "code",
     "collapsed": false,
     "input": [
      "encode(0.1)"
     ],
     "language": "python",
     "metadata": {},
     "outputs": [
      {
       "metadata": {},
       "output_type": "pyout",
       "prompt_number": 63,
       "text": [
        "array([ 0.,  0.,  0.,  0.,  0.,  0.,  0.,  0.,  0.,  0.,  0.,  1.,  1.,\n",
        "        1.,  1.,  1.,  0.,  0.,  0.,  0.,  0.,  0.,  0.,  0.,  0.])"
       ]
      }
     ],
     "prompt_number": 63
    },
    {
     "cell_type": "code",
     "collapsed": false,
     "input": [
      "encodedRD = []\n",
      "for betaVector in RD:\n",
      "    encodedRD.append(map(encode,betaVector))"
     ],
     "language": "python",
     "metadata": {},
     "outputs": [],
     "prompt_number": 94
    },
    {
     "cell_type": "code",
     "collapsed": false,
     "input": [
      "encodedRD = map(np.vstack,encodedRD)"
     ],
     "language": "python",
     "metadata": {},
     "outputs": [],
     "prompt_number": 95
    },
    {
     "cell_type": "code",
     "collapsed": false,
     "input": [
      "p.arrayPlot(encodedRD[100])"
     ],
     "language": "python",
     "metadata": {},
     "outputs": [
      {
       "metadata": {},
       "output_type": "pyout",
       "prompt_number": 97,
       "text": [
        "(<matplotlib.figure.Figure at 0xab9eb76c>,\n",
        " [<matplotlib.axes.AxesSubplot at 0xabaf08cc>,\n",
        "  <matplotlib.axes.Axes at 0xaba6630c>])"
       ]
      },
      {
       "metadata": {},
       "output_type": "display_data",
       "png": "[encoded data removed]",
       "text": [
        "<matplotlib.figure.Figure at 0xab9eb76c>"
       ]
      }
     ],
     "prompt_number": 97
    },
    {
     "cell_type": "code",
     "collapsed": false,
     "input": [
      "encodedG[0].shape"
     ],
     "language": "python",
     "metadata": {},
     "outputs": [
      {
       "metadata": {},
       "output_type": "pyout",
       "prompt_number": 90,
       "text": [
        "(10, 25)"
       ]
      }
     ],
     "prompt_number": 90
    },
    {
     "cell_type": "heading",
     "level": 1,
     "metadata": {},
     "source": [
      "Set Up Spatial Pooler"
     ]
    },
    {
     "cell_type": "code",
     "collapsed": false,
     "input": [
      "sp = SpatialPooler(inputDimensions=(10, 25),\n",
      "                   columnDimensions=(16, 16),\n",
      "                   potentialRadius=8,\n",
      "                   potentialPct=0.7,\n",
      "                   globalInhibition=False,\n",
      "                   localAreaDensity=-1.0,\n",
      "                   numActiveColumnsPerInhArea=5,\n",
      "                   stimulusThreshold=0,\n",
      "                   synPermInactiveDec=0.01,\n",
      "                   synPermActiveInc=0.1,\n",
      "                   synPermConnected=0.1,\n",
      "                   minPctOverlapDutyCycle=0.001,\n",
      "                   minPctActiveDutyCycle=0.001,\n",
      "                   dutyCyclePeriod=1000,\n",
      "                   maxBoost=10.0,\n",
      "                   seed=-1,\n",
      "                   spVerbosity=0)"
     ],
     "language": "python",
     "metadata": {},
     "outputs": [],
     "prompt_number": 103
    },
    {
     "cell_type": "code",
     "collapsed": false,
     "input": [
      "Patcher('run1').patchSP(sp)"
     ],
     "language": "python",
     "metadata": {},
     "outputs": [],
     "prompt_number": 104
    },
    {
     "cell_type": "code",
     "collapsed": false,
     "input": [
      "750*3"
     ],
     "language": "python",
     "metadata": {},
     "outputs": [
      {
       "metadata": {},
       "output_type": "pyout",
       "prompt_number": 100,
       "text": [
        "2250"
       ]
      }
     ],
     "prompt_number": 100
    },
    {
     "cell_type": "markdown",
     "metadata": {},
     "source": [
      "Training (feed in the frist 80% of the data) (this took ~25s for i>=10)"
     ]
    },
    {
     "cell_type": "code",
     "collapsed": false,
     "input": [
      "outputArray = np.zeros(16*16)\n",
      "for i in xrange(10):\n",
      "    for inputArray in (encodedG[i],encodedSG[i],encodedRD[i]):\n",
      "        sp.compute(inputArray.flatten(), True, outputArray)"
     ],
     "language": "python",
     "metadata": {},
     "outputs": [],
     "prompt_number": 105
    },
    {
     "cell_type": "code",
     "collapsed": false,
     "input": [
      "p.timeOrderedSDRPlot(sp.history.activeColumns())"
     ],
     "language": "python",
     "metadata": {},
     "outputs": [
      {
       "metadata": {},
       "output_type": "pyout",
       "prompt_number": 109,
       "text": [
        "(<matplotlib.figure.Figure at 0xab90aecc>,\n",
        " [<matplotlib.axes.AxesSubplot at 0xab906f6c>])"
       ]
      },
      {
       "output_type": "stream",
       "stream": "stderr",
       "text": [
        "/home/ruaridh/.local/lib/python2.7/site-packages/matplotlib/font_manager.py:1236: UserWarning: findfont: Font family ['monospace'] not found. Falling back to Bitstream Vera Sans\n",
        "  (prop.get_family(), self.defaultFamily[fontext]))\n"
       ]
      },
      {
       "metadata": {},
       "output_type": "display_data",
       "png": "[encoded data removed]",
       "text": [
        "<matplotlib.figure.Figure at 0xab90aecc>"
       ]
      }
     ],
     "prompt_number": 109
    },
    {
     "cell_type": "markdown",
     "metadata": {},
     "source": [
      "Testing (see what the active columns are when you feed in the rest of the data)"
     ]
    },
    {
     "cell_type": "code",
     "collapsed": false,
     "input": [
      "allOutput=[]\n",
      "for i in xrange(740,750):\n",
      "    for inputArray in (encodedG[i],encodedSG[i],encodedRD[i]):\n",
      "        outputArray = np.zeros(16*16)\n",
      "        sp.compute(inputArray.flatten(), False, outputArray) #learning turned off\n",
      "        allOutput.append(outputArray)\n",
      "#extract the ouputs corresponding to different inputs into different lists\n",
      "GOutput = allOutput[0::3]\n",
      "SGOutput = allOutput[1::3]\n",
      "RDOutput = allOutput[2::3]"
     ],
     "language": "python",
     "metadata": {},
     "outputs": [],
     "prompt_number": 130
    },
    {
     "cell_type": "code",
     "collapsed": false,
     "input": [
      "len(GOutput)"
     ],
     "language": "python",
     "metadata": {},
     "outputs": [
      {
       "metadata": {},
       "output_type": "pyout",
       "prompt_number": 132,
       "text": [
        "10"
       ]
      }
     ],
     "prompt_number": 132
    },
    {
     "cell_type": "code",
     "collapsed": false,
     "input": [
      "(f,a)=p.arrayPlot(np.vstack(GOutput))\n",
      "f.set_size_inches(20,20)"
     ],
     "language": "python",
     "metadata": {},
     "outputs": [
      {
       "metadata": {},
       "output_type": "display_data",
       "png": "[encoded data removed]",
       "text": [
        "<matplotlib.figure.Figure at 0xa8e2b72c>"
       ]
      }
     ],
     "prompt_number": 137
    },
    {
     "cell_type": "code",
     "collapsed": false,
     "input": [
      "(f,a)=p.arrayPlot(np.vstack(SGOutput))\n",
      "f.set_size_inches(20,20)"
     ],
     "language": "python",
     "metadata": {},
     "outputs": [
      {
       "metadata": {},
       "output_type": "display_data",
       "png": "[encoded data removed]",
       "text": [
        "<matplotlib.figure.Figure at 0xa8d7924c>"
       ]
      }
     ],
     "prompt_number": 138
    },
    {
     "cell_type": "code",
     "collapsed": false,
     "input": [
      "(f,a)=p.arrayPlot(np.vstack(RDOutput))\n",
      "f.set_size_inches(20,20)"
     ],
     "language": "python",
     "metadata": {},
     "outputs": [
      {
       "metadata": {},
       "output_type": "display_data",
       "png": "[encoded data removed]",
       "text": [
        "<matplotlib.figure.Figure at 0xa9db960c>"
       ]
      }
     ],
     "prompt_number": 139
    },
    {
     "cell_type": "markdown",
     "metadata": {},
     "source": [
      "They've all been mapped to the same SDR pretty much. :("
     ]
    },
    {
     "cell_type": "code",
     "collapsed": false,
     "input": [],
     "language": "python",
     "metadata": {},
     "outputs": []
    }
   ],
   "metadata": {}
  }
 ]
}