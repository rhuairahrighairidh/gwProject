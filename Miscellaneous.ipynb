{
 "metadata": {
  "name": "",
  "signature": "sha256:ebac9ee73bd8e5f3030a78ef98e8a359abe7184051fcc3bbef7c57bd581e7309"
 },
 "nbformat": 3,
 "nbformat_minor": 0,
 "worksheets": [
  {
   "cells": [
    {
     "cell_type": "code",
     "collapsed": false,
     "input": [
      "times=[['second',1],\n",
      "['minutes',60],\n",
      "['hour',60*60],\n",
      "['day',24*60*60],\n",
      "['week',7*24*60*60],\n",
      "['fortnight',2*7*24*60*60],\n",
      "['month',30*24*60*60],\n",
      "['quarter',3*30*24*60*60],\n",
      "['year',365*24*60*60]]\n"
     ],
     "language": "python",
     "metadata": {},
     "outputs": [],
     "prompt_number": 18
    },
    {
     "cell_type": "code",
     "collapsed": false,
     "input": [
      "times"
     ],
     "language": "python",
     "metadata": {},
     "outputs": [
      {
       "metadata": {},
       "output_type": "pyout",
       "prompt_number": 21,
       "text": [
        "[['second', 1],\n",
        " ['minutes', 60],\n",
        " ['hour', 3600],\n",
        " ['day', 86400],\n",
        " ['week', 604800],\n",
        " ['fortnight', 1209600],\n",
        " ['month', 2592000],\n",
        " ['quarter', 7776000],\n",
        " ['year', 31536000]]"
       ]
      }
     ],
     "prompt_number": 21
    },
    {
     "cell_type": "code",
     "collapsed": false,
     "input": [
      "times.get(60)"
     ],
     "language": "python",
     "metadata": {},
     "outputs": [],
     "prompt_number": 17
    },
    {
     "cell_type": "code",
     "collapsed": false,
     "input": [
      "16386*60"
     ],
     "language": "python",
     "metadata": {},
     "outputs": [
      {
       "metadata": {},
       "output_type": "pyout",
       "prompt_number": 22,
       "text": [
        "983160"
       ]
      }
     ],
     "prompt_number": 22
    },
    {
     "cell_type": "code",
     "collapsed": false,
     "input": [],
     "language": "python",
     "metadata": {},
     "outputs": []
    }
   ],
   "metadata": {}
  }
 ]
}