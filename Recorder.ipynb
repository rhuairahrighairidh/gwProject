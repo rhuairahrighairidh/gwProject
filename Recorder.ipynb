{
 "metadata": {
  "name": "",
  "signature": "sha256:c8e55e974f8d6a3d127d792dd77eb843b82d9099434d42814bb43b6700df464f"
 },
 "nbformat": 3,
 "nbformat_minor": 0,
 "worksheets": [
  {
   "cells": [
    {
     "cell_type": "heading",
     "level": 1,
     "metadata": {},
     "source": [
      "Planning"
     ]
    },
    {
     "cell_type": "markdown",
     "metadata": {},
     "source": [
      " - To save out details as the algorithm runs, you specify a set of functions, one for each thing you want to save.\n",
      " - These functions will be provided with a standard set of inputs - model, result, SP, TP etc.\n",
      " - Maybe the details you want to record should not be specified when you create the model (as the patcher does), but when you actually run it. The initial thought was that everythin was saved all the time jut in case it came in helpful. Tis might be good for general exploration, but it (probably) uses up a lo of memory and execution time. If you come across a problem, its fairly easy to just rerun the model but this time saving everything.\n",
      " \n",
      " \n",
      " - `runThroughNuPIC(model=modelInstance, data=[12,3,2,1,2,2,3],records={'anomalys':getAnomaly,'predicted':getBestPredicted})`\n",
      " - Definition of a record function:\n",
      "       def getAnomaly(model=None,result=None,sp=None,tp=None,encoder=None):\n",
      "           return result.inferences['anomalyScore']\n",
      " - `runThroughNuPIC(sp=spatialPoolerInstance, data=[array1,array2,array3], records=nitpick.defaultSPRecordSet)`\n",
      " - How to feed data throught the model needs some thinking. Its different for every model/pooler/encoder/etc. Each of these also require a different number of arguments.\n",
      " - `runThrough(model=modelInstance, data=[0,1,0,1,0,1,0,1,0,1], records=nitpick.defaultOPFStats, computeFunc=nitpick.defaultOPFCompute)`\n",
      " - The compute function would be automatic for most of the time, ie for all standard nupic models.\n",
      " - The `data` arguement could be any iterable. Therefore it would work with a csv reader\n",
      " - Example opf compute:\n",
      "       def opfCompute(model,sampleInData):\n",
      "           fieldName = model.getFieldInfo()[0].name\n",
      "           model.run({fieldName: float(sampleInData)})\n",
      " - How do you pass other args to compute such as learningEnabled. This seems a bit messy now. Maybe the patcher model is nicer.\n",
      " - Overall Purpose: To avoid faffing about. This means to:\n",
      "    - stop having to come up with variable names for things that you don't want to refer to later\n",
      "    - converting between formats that are conceptualy the same (lists and np.arrays)\n",
      "    - *digging around in code to find out how to access \"common\" variables (especially between implementations (C++ and python))\n",
      "    - *having to manually save data somewhere and remember where it is (and not overwrite it accidentaly)\n",
      "    - \"deal with concepts not implementation details\"\n",
      "    - having to deal with matplotlib's stupid decisions (color choice, strange plot borders, strange data input formats, plot size)\n",
      "    - having to put up a lot of custom scaffolding (like variables to put data into, formats for that data, small scripts and functions) and remember how to use it all\n",
      "    - *maybe provide data structures that you can tab through so you don't have remember the storage format\n",
      "    - converting between sparse arrays and full arrays for various tasks (calculations, plotting)\n",
      " - Idea:\n",
      "    - A data storage object you can call a save method on to store whatever you want. You don't need to have it patched onto a particular compute function.\n",
      "    - This can then handle saving out to hdf5 as necessary.\n",
      " - What about a `nitpick.reportBug(\"Description of the bug and how to reproduce it.\")`"
     ]
    },
    {
     "cell_type": "heading",
     "level": 1,
     "metadata": {},
     "source": [
      "Implementation Resides in `gwProject/recorder.py`"
     ]
    },
    {
     "cell_type": "heading",
     "level": 1,
     "metadata": {},
     "source": [
      "Testing"
     ]
    },
    {
     "cell_type": "code",
     "collapsed": false,
     "input": [
      "def enum(**enums):\n",
      "    return type('Enum', (), enums)"
     ],
     "language": "python",
     "metadata": {},
     "outputs": [],
     "prompt_number": 2
    },
    {
     "cell_type": "code",
     "collapsed": false,
     "input": [
      "foorg = enum(d=4)"
     ],
     "language": "python",
     "metadata": {},
     "outputs": [],
     "prompt_number": 52
    },
    {
     "cell_type": "code",
     "collapsed": false,
     "input": [
      "foorg.e=34"
     ],
     "language": "python",
     "metadata": {},
     "outputs": [],
     "prompt_number": 54
    },
    {
     "cell_type": "code",
     "collapsed": false,
     "input": [
      "'dfdff'.__class__"
     ],
     "language": "python",
     "metadata": {},
     "outputs": [
      {
       "metadata": {},
       "output_type": "pyout",
       "prompt_number": 56,
       "text": [
        "str"
       ]
      }
     ],
     "prompt_number": 56
    },
    {
     "cell_type": "code",
     "collapsed": false,
     "input": [
      "class Store:\n",
      "    def __init__(self):\n",
      "        pass\n",
      "    \n",
      "    def record(self,model,result,fieldFunctions):\n",
      "        for function in fieldFunctions:\n",
      "            fieldName = function.__name__\n",
      "            if not hasattr(self,fieldName):\n",
      "                setattr(self,fieldName,[])\n",
      "            \n",
      "            field = getattr(self,fieldName)\n",
      "        \n",
      "            field.append(function(model=model,result=result))\n"
     ],
     "language": "python",
     "metadata": {},
     "outputs": [],
     "prompt_number": 69
    },
    {
     "cell_type": "code",
     "collapsed": false,
     "input": [
      "import numpy as np\n",
      "\n",
      "def anomalyScore(model,result):\n",
      "    return result.inferences['anomalyScore']\n",
      "\n",
      "def bestPrediction(model,result):\n",
      "    return result.inferences['multiStepBestPredictions'][1]\n",
      "\n",
      "def allPredictions(model,result):\n",
      "    return result.inferences['multiStepBestPredictions'][1]\n",
      "\n",
      "def predictedColumns(model,result):\n",
      "    return model._prevPredictedColumns\n",
      "\n",
      "def modelInput(model,result):\n",
      "    name = model.getFieldInfo()[0].name\n",
      "    return model._input[name]\n",
      "\n",
      "def boostFactors(model,result):\n",
      "    sp = model._getSPRegion().getSelf()._sfdr\n",
      "    dimensions = sp.getColumnDimensions()\n",
      "    boostFactorsArray = np.zeros(dimensions)\n",
      "    sp.getBoostFactors(boostFactorsArray)\n",
      "    return boostFactorsArray\n",
      "\n",
      "def activeDutyCycles(model,result):\n",
      "    sp = model._getSPRegion().getSelf()._sfdr\n",
      "    dimensions = sp.getColumnDimensions()\n",
      "    array = np.zeros(dimensions)\n",
      "    sp.getActiveDutyCycles(array)\n",
      "    return array\n",
      "\n",
      "def activeCells(model,result):\n",
      "    tp=model._getTPRegion().getSelf()._tfdr\n",
      "    flatArray = tp.getActiveState()\n",
      "    activeCells = flatArray.reshape([tp.numberOfCols,tp.cellsPerColumn],dtype='int8')#same dtype as predicted state\n",
      "    return activeCells\n",
      "\n",
      "def predictiveCells(model,result):\n",
      "    tp=model._getTPRegion().getSelf()._tfdr\n",
      "    array = tp.getPredictedState()\n",
      "    return array\n",
      "\n",
      "def activeColumns(model,result):\n",
      "    \"\"\"This doesn't work\"\"\"\n",
      "    tp=model._getTPRegion().getSelf()._tfdr\n",
      "    return tp.activeColumns\n",
      "    \n",
      "def debug(model,result):\n",
      "    \"\"\"\n",
      "    This returns a random integer between 0 and 9\n",
      "    \"\"\"\n",
      "    return np.random.randint(10)"
     ],
     "language": "python",
     "metadata": {},
     "outputs": [],
     "prompt_number": 79
    },
    {
     "cell_type": "code",
     "collapsed": false,
     "input": [
      "test = Store()"
     ],
     "language": "python",
     "metadata": {},
     "outputs": [],
     "prompt_number": 71
    },
    {
     "cell_type": "code",
     "collapsed": false,
     "input": [
      "test.record(4,4,[debug])"
     ],
     "language": "python",
     "metadata": {},
     "outputs": [],
     "prompt_number": 100
    },
    {
     "cell_type": "code",
     "collapsed": false,
     "input": [
      "test.data = Store()"
     ],
     "language": "python",
     "metadata": {},
     "outputs": [],
     "prompt_number": 103
    },
    {
     "cell_type": "code",
     "collapsed": false,
     "input": [
      "d = {'r':5,'f':'6'}"
     ],
     "language": "python",
     "metadata": {},
     "outputs": [],
     "prompt_number": 105
    },
    {
     "cell_type": "code",
     "collapsed": false,
     "input": [
      "test.__module__"
     ],
     "language": "python",
     "metadata": {},
     "outputs": [
      {
       "metadata": {},
       "output_type": "pyout",
       "prompt_number": 109,
       "text": [
        "'__main__'"
       ]
      }
     ],
     "prompt_number": 109
    },
    {
     "cell_type": "code",
     "collapsed": false,
     "input": [
      "test.data"
     ],
     "language": "python",
     "metadata": {},
     "outputs": [
      {
       "metadata": {},
       "output_type": "pyout",
       "prompt_number": 104,
       "text": [
        "<__main__.Store instance at 0x104e2d908>"
       ]
      }
     ],
     "prompt_number": 104
    },
    {
     "cell_type": "code",
     "collapsed": false,
     "input": [
      "def sparseToDense(sparseArray,dimensions):\n",
      "    array = np.zeros(dimensions,dtype='int')\n",
      "    array[sparseArray]=1\n",
      "    return array"
     ],
     "language": "python",
     "metadata": {},
     "outputs": [],
     "prompt_number": 37
    }
   ],
   "metadata": {}
  }
 ]
}